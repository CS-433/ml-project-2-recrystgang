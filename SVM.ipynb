{
 "cells": [
  {
   "cell_type": "code",
   "execution_count": 1,
   "metadata": {},
   "outputs": [],
   "source": [
    "import pandas as pd\n",
    "import numpy as np\n",
    "import scipy as sp\n",
    "import matplotlib.pyplot as plt\n",
    "import scipy.fftpack\n",
    "\n",
    "\n",
    "\n",
    "import wave\n",
    "import struct\n",
    "import sys\n",
    "import csv\n",
    "\n",
    "from scipy.io import wavfile\n",
    "from scipy.signal import resample\n",
    "\n",
    "import sounddevice as sd\n",
    "import soundfile as sf\n",
    "\n",
    "import os\n",
    "\n",
    "from IPython import display\n",
    "from IPython.display import Audio\n",
    "\n",
    "#import tensorflow for yamnet\n",
    "import tensorflow as tf\n",
    "import tensorflow_hub as hub\n",
    "import tensorflow_io as tfio\n",
    "\n",
    "\n",
    "data_folder = './data/'\n",
    "wav_folder_rx ='./samples_A_RX1_C0/'\n",
    "wav_folder_deformed ='./samples_A_DEFORMED1_C0/'"
   ]
  },
  {
   "cell_type": "code",
   "execution_count": 4,
   "metadata": {},
   "outputs": [],
   "source": [
    "#CSV filenames\n",
    "deformed01 = 'A_DEFORMED1_C0'\n",
    "deformed02 = 'A_DEFORMED1_C0'\n",
    "rx01 = 'A_RX1_C0'\n",
    "\n",
    "#WAV filenames\n",
    "wav_rx = 'sample_A_RX1_C00'\n",
    "df = pd.read_csv(data_folder + deformed02 + '.csv', header = None)"
   ]
  },
  {
   "cell_type": "code",
   "execution_count": 5,
   "metadata": {},
   "outputs": [
    {
     "name": "stdout",
     "output_type": "stream",
     "text": [
      "the frequency of the signal is 3.04878048780488 MHz\n",
      "the total duration of the signal is 10.409464743999994 seconds\n",
      "number of samples : 31736173\n"
     ]
    }
   ],
   "source": [
    "\n",
    "#initialisation of clock variables\n",
    "clock = 3048780.48780488\n",
    "delay_in_samples = 304878\n",
    "g_T = 1 / clock\n",
    "g_N = len(df)\n",
    "\n",
    "print(\"the frequency of the signal is\", clock * 1e-6, \"MHz\")\n",
    "print(\"the total duration of the signal is\", g_N / clock, \"seconds\")\n",
    "print(\"number of samples :\", len(df))\n"
   ]
  },
  {
   "cell_type": "code",
   "execution_count": 8,
   "metadata": {},
   "outputs": [
    {
     "name": "stdout",
     "output_type": "stream",
     "text": [
      "deleted 1.2691172799999992 samples from the end because we assume it is silence from 10.409464743999994 samples\n"
     ]
    }
   ],
   "source": [
    "#remove the last points so that the array length is divisible by the number of points per sample \n",
    "#in order to have equal lengths sample\n",
    "def clean_data(df):\n",
    "    epsilon =  1e-1\n",
    "    #remove the silence at the end: \n",
    "    for i in range(len(df) - 1, 0, -1):\n",
    "        if(df[0][i] > epsilon):\n",
    "            print(\"deleted\", (len(df) - i) / clock, \"samples from the end because we assume it is silence from\", len(df) / clock, \"samples\")\n",
    "            return df[:i]\n",
    "\n",
    "def split_csv(filename, T):\n",
    "    df = pd.read_csv(data_folder + filename + '.csv', header = None)\n",
    "    df = clean_data(df)\n",
    "    df.rename(columns = {0:'amplitude'}, inplace = True)\n",
    "    point_per_sample = int(160e-3 * clock)\n",
    "    \n",
    "    nb_of_samples = int(len(df)/point_per_sample)\n",
    "    data = df[:nb_of_samples * point_per_sample]\n",
    "    return np.array_split(data, nb_of_samples)\n",
    "\n",
    "data_deformed = split_csv(deformed01, g_T)\n",
    "#data_rx = split_csv(rx01, g_T)\n"
   ]
  },
  {
   "cell_type": "code",
   "execution_count": 9,
   "metadata": {},
   "outputs": [],
   "source": [
    "from scipy import signal\n",
    "\n",
    "#Wavelets\n",
    "t = np.linspace(-1, 1, 200, endpoint=False)\n",
    "flat_list = []\n",
    "widths = np.arange(1, 31)\n",
    "for sublist in data_deformed:\n",
    "    for item in sublist['amplitude']:\n",
    "        flat_list.append(item)\n",
    "\n",
    "\n",
    "# cwt has shape(30, 128795) 30 being widths\n",
    "cwt = signal.cwt(flat_list, signal.ricker,widths)"
   ]
  },
  {
   "cell_type": "code",
   "execution_count": 14,
   "metadata": {},
   "outputs": [
    {
     "name": "stdout",
     "output_type": "stream",
     "text": [
      "[[ 1.89715206e-03  8.17831480e-04 -2.01714086e-03 ...  3.49778435e-01\n",
      "   3.63097780e+00  9.40086257e+00]\n",
      " [-5.86234753e-03  5.95608922e-03  1.70033451e-02 ...  9.84106609e+00\n",
      "   1.24308497e+01  9.12124329e+00]\n",
      " [ 5.87897810e-04  1.56878155e-02  2.93046863e-02 ...  1.50447341e+01\n",
      "   1.32753235e+01  7.85236807e+00]\n",
      " ...\n",
      " [-2.83781863e-02 -2.76508467e-02 -2.68712364e-02 ...  8.04028751e+00\n",
      "   5.38709406e+00  2.71342071e+00]\n",
      " [-2.92518314e-02 -2.84240012e-02 -2.75411792e-02 ...  7.90592470e+00\n",
      "   5.29678984e+00  2.66888301e+00]\n",
      " [-2.99748840e-02 -2.90545801e-02 -2.80775123e-02 ...  7.77812810e+00\n",
      "   5.21100283e+00  2.62661995e+00]]\n"
     ]
    }
   ],
   "source": [
    "#standardize data\n",
    "normalized_cwt=(cwt-cwt.mean())/cwt.std()\n",
    "print(normalized_cwt)\n",
    "\n"
   ]
  },
  {
   "cell_type": "code",
   "execution_count": 16,
   "metadata": {},
   "outputs": [],
   "source": [
    "#PCA\n",
    "from sklearn.decomposition import PCA\n",
    "pca = PCA(len(normalized_cwt))\n",
    "pca.fit(normalized_cwt)\n",
    "train_img = pca.transform(normalized_cwt)\n",
    "print(train_img)"
   ]
  },
  {
   "cell_type": "code",
   "execution_count": null,
   "metadata": {},
   "outputs": [],
   "source": []
  }
 ],
 "metadata": {
  "interpreter": {
   "hash": "1dd2691ec88a8b563fe6b792cd5b35b2471a11a89b348b9101d9c34f3b232cce"
  },
  "kernelspec": {
   "display_name": "Python 3.9.7 64-bit ('base': conda)",
   "language": "python",
   "name": "python3"
  },
  "language_info": {
   "codemirror_mode": {
    "name": "ipython",
    "version": 3
   },
   "file_extension": ".py",
   "mimetype": "text/x-python",
   "name": "python",
   "nbconvert_exporter": "python",
   "pygments_lexer": "ipython3",
   "version": "3.9.7"
  },
  "orig_nbformat": 4
 },
 "nbformat": 4,
 "nbformat_minor": 2
}
