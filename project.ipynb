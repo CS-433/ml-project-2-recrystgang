{
 "cells": [
  {
   "cell_type": "markdown",
   "id": "8c10e0a0-595f-44d4-b422-46e442613039",
   "metadata": {},
   "source": [
    "Using machine learning based methods to identify defaults in matter during laser powder processes"
   ]
  },
  {
   "cell_type": "markdown",
   "id": "6470f2ed",
   "metadata": {},
   "source": [
    "#### Prior python installs (Tip : Don't forget to generate a virtual environment so as not to clutter your python workspaces)\n",
    "\n",
    "!pip install soundfile \\\n",
    "!pip install sounddevice\\\n",
    "!pip install scipy \n",
    "\n"
   ]
  },
  {
   "cell_type": "code",
   "execution_count": 2,
   "id": "247ed1bf-2a08-4ebc-94a2-fd7938b8e544",
   "metadata": {},
   "outputs": [],
   "source": [
    "import pandas as pd\n",
    "import numpy as np\n",
    "import scipy as sp\n",
    "import matplotlib.pyplot as plt\n",
    "import scipy.fftpack\n",
    "\n",
    "\n",
    "import wave\n",
    "import struct\n",
    "import sys\n",
    "import csv\n",
    "\n",
    "from scipy.io import wavfile\n",
    "from scipy.signal import resample\n",
    "\n",
    "import sounddevice as sd\n",
    "import soundfile as sf\n",
    "data_folder = './data/'"
   ]
  },
  {
   "cell_type": "code",
   "execution_count": 15,
   "id": "66cac053",
   "metadata": {},
   "outputs": [],
   "source": [
    "file = 'A_RX1_C0'"
   ]
  },
  {
   "cell_type": "code",
   "execution_count": 16,
   "id": "149cad3e",
   "metadata": {},
   "outputs": [],
   "source": [
    "df = pd.read_csv(data_folder + file + '.csv', header = None)"
   ]
  },
  {
   "cell_type": "code",
   "execution_count": 17,
   "id": "15608655",
   "metadata": {},
   "outputs": [
    {
     "data": {
      "text/plain": [
       "(32000000, 1)"
      ]
     },
     "execution_count": 17,
     "metadata": {},
     "output_type": "execute_result"
    }
   ],
   "source": [
    "df.shape"
   ]
  },
  {
   "cell_type": "code",
   "execution_count": 18,
   "id": "733bb68a",
   "metadata": {},
   "outputs": [
    {
     "name": "stdout",
     "output_type": "stream",
     "text": [
      "the frequency of the signal is 3.04878048780488 MHz\n",
      "the total duration of the signal is 10.495999999999993 seconds\n",
      "number of samples : 32000000\n"
     ]
    }
   ],
   "source": [
    "\n",
    "#initialisation of clock variables\n",
    "clock = 3048780.48780488\n",
    "delay_in_samples = 304878\n",
    "g_T = 1 / clock\n",
    "g_N = len(df)\n",
    "\n",
    "print(\"the frequency of the signal is\", clock * 1e-6, \"MHz\")\n",
    "print(\"the total duration of the signal is\", g_N / clock, \"seconds\")\n",
    "print(\"number of samples :\", len(df))\n"
   ]
  },
  {
   "cell_type": "code",
   "execution_count": null,
   "id": "bb6b6a7f",
   "metadata": {},
   "outputs": [],
   "source": []
  },
  {
   "cell_type": "code",
   "execution_count": 13,
   "id": "9664d588-e261-4486-ad54-65ee04643b56",
   "metadata": {},
   "outputs": [],
   "source": [
    "#create a second array containing the timestamps of my dataset: \n",
    "def prepareData(df,T):\n",
    "    df['time'] = np.arange(len(df)) * T\n",
    "    df.rename(columns = {0:'amplitude'}, inplace = True)\n",
    "    return df \n",
    "\n",
    "conduction = prepareData(df.copy(), g_T)"
   ]
  },
  {
   "cell_type": "code",
   "execution_count": 20,
   "id": "9491049f",
   "metadata": {},
   "outputs": [
    {
     "data": {
      "text/html": [
       "<div>\n",
       "<style scoped>\n",
       "    .dataframe tbody tr th:only-of-type {\n",
       "        vertical-align: middle;\n",
       "    }\n",
       "\n",
       "    .dataframe tbody tr th {\n",
       "        vertical-align: top;\n",
       "    }\n",
       "\n",
       "    .dataframe thead th {\n",
       "        text-align: right;\n",
       "    }\n",
       "</style>\n",
       "<table border=\"1\" class=\"dataframe\">\n",
       "  <thead>\n",
       "    <tr style=\"text-align: right;\">\n",
       "      <th></th>\n",
       "      <th>amplitude</th>\n",
       "      <th>time</th>\n",
       "    </tr>\n",
       "  </thead>\n",
       "  <tbody>\n",
       "    <tr>\n",
       "      <th>0</th>\n",
       "      <td>0.005493</td>\n",
       "      <td>0.000000e+00</td>\n",
       "    </tr>\n",
       "    <tr>\n",
       "      <th>1</th>\n",
       "      <td>0.002136</td>\n",
       "      <td>3.280000e-07</td>\n",
       "    </tr>\n",
       "    <tr>\n",
       "      <th>2</th>\n",
       "      <td>0.007019</td>\n",
       "      <td>6.560000e-07</td>\n",
       "    </tr>\n",
       "    <tr>\n",
       "      <th>3</th>\n",
       "      <td>0.005798</td>\n",
       "      <td>9.840000e-07</td>\n",
       "    </tr>\n",
       "    <tr>\n",
       "      <th>4</th>\n",
       "      <td>0.006104</td>\n",
       "      <td>1.312000e-06</td>\n",
       "    </tr>\n",
       "  </tbody>\n",
       "</table>\n",
       "</div>"
      ],
      "text/plain": [
       "   amplitude          time\n",
       "0   0.005493  0.000000e+00\n",
       "1   0.002136  3.280000e-07\n",
       "2   0.007019  6.560000e-07\n",
       "3   0.005798  9.840000e-07\n",
       "4   0.006104  1.312000e-06"
      ]
     },
     "execution_count": 20,
     "metadata": {},
     "output_type": "execute_result"
    }
   ],
   "source": [
    "conduction.head(5)"
   ]
  },
  {
   "cell_type": "code",
   "execution_count": 21,
   "id": "d0053c30-c172-4a7a-8702-2d0d55d995b9",
   "metadata": {},
   "outputs": [],
   "source": [
    "#small snapshot to visualize the signal\n",
    "\n",
    "\n",
    "#THERE IS A MAJOR ISSUE BECAUSE I DID NOT DEFINE TIME AS AN ORDERED INDEX. SO WHEN I EXTRACT THE SIGNAL IM ITERATING OVER \n",
    "#A SHIT TON OF VALUES (THE FULL SIZE OF THE SIGNAL) INSTEAD OF SIMPLY GOING ON THE RANGE OF THE INDEX\n",
    "def extract_signal(signal, startTime, endTime):\n",
    "    smaller_signal = conduction[conduction['time'].apply(lambda x: (x > startTime) & (x < endTime))]\n",
    "    small_T = g_T\n",
    "    small_N = len(smaller_signal)\n",
    "    return smaller_signal, small_N, small_T\n",
    "    \n",
    "\n",
    "def showFFT(signal, N, T):\n",
    "    amplitudes = signal['amplitude'].to_numpy()\n",
    "    x = np.linspace(0.0, N*T, N, endpoint=False)\n",
    "    y = amplitudes\n",
    "    yf = scipy.fftpack.fft(amplitudes)\n",
    "    xf = scipy.fftpack.fftfreq(N, T)[:N//2]\n",
    "    plt.plot(xf, 2.0/N * np.abs(yf[0:N//2]))\n",
    "    plt.grid()\n",
    "    plt.show()\n",
    "    print(\"Fourier transform of the signal\")\n",
    "    \n",
    "def plot_signal(signal):\n",
    "    signal.plot(x='time', y='amplitude')  "
   ]
  },
  {
   "cell_type": "code",
   "execution_count": 22,
   "id": "85f92d7a-3ede-4f40-8938-f745305f5f7c",
   "metadata": {},
   "outputs": [],
   "source": [
    "sample_signal, sample_N, sample_T = extract_signal(conduction,2e-4,3e-4)\n"
   ]
  },
  {
   "cell_type": "code",
   "execution_count": 23,
   "id": "239c6537",
   "metadata": {},
   "outputs": [
    {
     "data": {
      "image/png": "[encoded data removed]",
      "text/plain": [
       "<Figure size 432x288 with 1 Axes>"
      ]
     },
     "metadata": {
      "needs_background": "light"
     },
     "output_type": "display_data"
    }
   ],
   "source": [
    "plot_signal(sample_signal)"
   ]
  },
  {
   "cell_type": "code",
   "execution_count": 24,
   "id": "9e53d13f-e2b2-41e0-abb3-fac8a16fb13e",
   "metadata": {},
   "outputs": [
    {
     "data": {
      "image/png": "[encoded data removed]",
      "text/plain": [
       "<Figure size 432x288 with 1 Axes>"
      ]
     },
     "metadata": {
      "needs_background": "light"
     },
     "output_type": "display_data"
    },
    {
     "name": "stdout",
     "output_type": "stream",
     "text": [
      "Fourier transform of the signal\n"
     ]
    }
   ],
   "source": [
    "showFFT(sample_signal, sample_N, sample_T)"
   ]
  },
  {
   "cell_type": "code",
   "execution_count": 19,
   "id": "1b531ea1",
   "metadata": {},
   "outputs": [],
   "source": [
    "\n",
    "\n",
    "#Transforming the data into a .wav file\n",
    "from scipy.io.wavfile import write\n",
    "samplerate = int(clock)\n",
    "write(file + '.wav', samplerate, conduction['amplitude'])\n",
    "\n"
   ]
  },
  {
   "cell_type": "code",
   "execution_count": 20,
   "id": "bf483081",
   "metadata": {},
   "outputs": [],
   "source": [
    "#reading the data and listening to it because why not!\n",
    "#it's cool to listen to something you're just seeing as numbers!\n",
    "sd.play(conduction, 1e5)\n",
    "status = sd.wait()"
   ]
  },
  {
   "cell_type": "code",
   "execution_count": null,
   "id": "05067d98",
   "metadata": {},
   "outputs": [],
   "source": []
  },
  {
   "cell_type": "markdown",
   "id": "cf7b8cb4",
   "metadata": {},
   "source": [
    "### Idea 1 : using an SVM to separate the data\n",
    "Do PCA on the data \\\n",
    "Apply SVM on the data \\\n",
    "\n",
    "### Idea 2 : using a neural network to separate the data\n",
    "WPT (Wavelet package transform) \\\n",
    "Design a CNN (Convolutional Neural Network) \\\n",
    "\n"
   ]
  },
  {
   "cell_type": "code",
   "execution_count": 25,
   "id": "c6c3c38a-0801-4f60-b576-76caa7d41d3b",
   "metadata": {},
   "outputs": [
    {
     "data": {
      "text/plain": [
       "0.005333333333333333"
      ]
     },
     "execution_count": 25,
     "metadata": {},
     "output_type": "execute_result"
    }
   ],
   "source": [
    "16*1e3 / (3*1e6)"
   ]
  },
  {
   "cell_type": "code",
   "execution_count": 26,
   "id": "42e60238",
   "metadata": {},
   "outputs": [
    {
     "data": {
      "text/plain": [
       "187.5"
      ]
     },
     "execution_count": 26,
     "metadata": {},
     "output_type": "execute_result"
    }
   ],
   "source": [
    "1/0.005333333333333333"
   ]
  },
  {
   "cell_type": "code",
   "execution_count": null,
   "id": "856d7b61",
   "metadata": {},
   "outputs": [],
   "source": []
  }
 ],
 "metadata": {
  "kernelspec": {
   "display_name": "Python 3 (ipykernel)",
   "language": "python",
   "name": "python3"
  },
  "language_info": {
   "codemirror_mode": {
    "name": "ipython",
    "version": 3
   },
   "file_extension": ".py",
   "mimetype": "text/x-python",
   "name": "python",
   "nbconvert_exporter": "python",
   "pygments_lexer": "ipython3",
   "version": "3.9.7"
  }
 },
 "nbformat": 4,
 "nbformat_minor": 5
}
